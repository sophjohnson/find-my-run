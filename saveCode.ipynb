{
 "cells": [
  {
   "cell_type": "code",
   "execution_count": null,
   "metadata": {
    "collapsed": true
   },
   "outputs": [],
   "source": [
    "def findPathRec(start, dist, v, adjList, marked, path, paths, fnd):  \n",
    "    \n",
    "    # Check if path returns to start with correct distance\n",
    "    if v == start and dist <= 0:\n",
    "        paths.append(path)\n",
    "        fnd = True\n",
    "        return (path, marked, fnd)     \n",
    "    \n",
    "    # If point has already been visited, return\n",
    "    if v in marked:\n",
    "        return (path, marked, fnd)\n",
    "    \n",
    "    # If you've traveled too far, return\n",
    "    if dist <= 0:\n",
    "        return (path, marked, fnd)\n",
    "    marked.append(v)    \n",
    "\n",
    "    # Add each neighbor in path \n",
    "#    for neighbor in adjList[v]:\n",
    "#        path.append(neighbor['n'])          \n",
    "#        path, marked = findPathRec(start, dist - neighbor['w'], neighbor['n'], adjList, marked, path, paths) \n",
    "#        path = path[:-1]\n",
    "#    marked = marked[:-1]\n",
    "    \n",
    "    for neighbor in adjList[v]:\n",
    "        if not fnd and v != start:\n",
    "            path.append(neighbor['n'])          \n",
    "            path, marked, fnd = findPathRec(start, dist - neighbor['w'], neighbor['n'], adjList, marked, path, paths, fnd) \n",
    "            path = path[:-1]\n",
    "        elif v == start:\n",
    "            fnd = False\n",
    "        marked = marked[:-1]  \n",
    "        return (path, marked, fnd)\n",
    "\n",
    "\n",
    "# Initialize variables\n",
    "start = 0\n",
    "dist = 2\n",
    "marked = []\n",
    "path = [0]\n",
    "paths = []\n",
    "fnd = False\n",
    "\n",
    "# Call recursive function\n",
    "path, marked, fnd = findPathRec(start, dist, start, adjList, marked, path, paths, fnd)\n",
    "\n",
    "# Print results\n",
    "for path in paths:\n",
    "    #print(path)\n",
    "    path = [nodes[i] for i in path]\n",
    "    print(path)"
   ]
  },
  {
   "cell_type": "code",
   "execution_count": null,
   "metadata": {
    "collapsed": true
   },
   "outputs": [],
   "source": [
    "#---------------------------------------------- Matrix to List ---------------------------------------------#\n",
    "\n",
    "# Create adjacency list from matrix\n",
    "def createAdjList(adjMat):   \n",
    "    adjList = []\n",
    "    # For each node\n",
    "    for i, node in enumerate(adjMat):\n",
    "        nodeList = []\n",
    "        # For all neighbors of node, find distance and add to list\n",
    "        for j, neighbor in enumerate(node):\n",
    "            if neighbor == 1:\n",
    "                n = {}\n",
    "                n['n'] = j\n",
    "                n['w'] = math.sqrt((nodes[i]['y'] - nodes[j]['y']) ** 2 + (nodes[i]['x'] - nodes[j]['x']) ** 2)\n",
    "                nodeList.append(n)\n",
    "        adjList.append(nodeList)\n",
    "    return adjList\n",
    "\n",
    "adjList = createAdjList(adjMat)   "
   ]
  },
  {
   "cell_type": "code",
   "execution_count": null,
   "metadata": {
    "collapsed": true
   },
   "outputs": [],
   "source": [
    "# Adjacency matrix\n",
    "adjMat = [[0, 1, 1, 0, 1],\n",
    "          [1, 0, 1, 1, 0],\n",
    "          [1, 1, 0, 1, 1],\n",
    "          [0, 1, 1, 0, 1],\n",
    "          [1, 0, 1, 1, 0]]\n",
    "\n",
    "# Adjacency matrix\n",
    "adjMat = [[0, 1, 1, 0, 0, 0, 0, 0, 0],\n",
    "          [1, 0, 0, 1, 0, 0, 0, 0, 0],\n",
    "          [1, 0, 0, 1, 0, 0, 1, 0, 0],        \n",
    "          [0, 1, 1, 0, 1, 0, 1, 0, 0],\n",
    "          [0, 0, 0, 1, 0, 1, 0, 1, 0],\n",
    "          [0, 0, 0, 0, 1, 0, 0, 1, 1],      \n",
    "          [0, 0, 1, 1, 0, 0, 0, 1, 0],\n",
    "          [0, 0, 0, 0, 1, 1, 1, 0, 1],\n",
    "          [0, 0, 0, 0, 0, 1, 0, 1, 0]]    \n",
    "\n"
   ]
  }
 ],
 "metadata": {
  "kernelspec": {
   "display_name": "Python 3",
   "language": "python",
   "name": "python3"
  },
  "language_info": {
   "codemirror_mode": {
    "name": "ipython",
    "version": 3
   },
   "file_extension": ".py",
   "mimetype": "text/x-python",
   "name": "python",
   "nbconvert_exporter": "python",
   "pygments_lexer": "ipython3",
   "version": "3.6.3"
  }
 },
 "nbformat": 4,
 "nbformat_minor": 2
}
